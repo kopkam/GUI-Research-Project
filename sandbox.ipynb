{
 "cells": [
  {
   "cell_type": "code",
   "execution_count": null,
   "id": "ed63f5fb",
   "metadata": {},
   "outputs": [],
   "source": [
    "from PIL import ImageGrab\n",
    "\n",
    "# Capture the entire screen\n",
    "screenshot = ImageGrab.grab()\n",
    "\n",
    "# Save the screenshot to a file\n",
    "screenshot.save(\"screenshots//screenshot.png\")\n",
    "\n",
    "# Close the screenshot\n",
    "screenshot.close()"
   ]
  },
  {
   "cell_type": "code",
   "execution_count": 25,
   "id": "4353bf76",
   "metadata": {},
   "outputs": [
    {
     "data": {
      "text/plain": [
       "array(['entry', 'empty', 'empty', 'button', 'empty', 'label', 'label',\n",
       "       'button', 'entry', 'entry'], dtype='<U11')"
      ]
     },
     "execution_count": 25,
     "metadata": {},
     "output_type": "execute_result"
    }
   ],
   "source": [
    "from random import randint, random\n",
    "from numpy.random import choice\n",
    "\n",
    "draw = choice(\n",
    "    [\"empty\", \"button\", \"label\", \"entry\", \"radiobutton\"],\n",
    "    10,\n",
    "    p=[0.35,0.1,0.35,0.15,0.05])\n",
    "\n",
    "draw"
   ]
  },
  {
   "cell_type": "code",
   "execution_count": 4,
   "id": "b9a25df7",
   "metadata": {},
   "outputs": [
    {
     "data": {
      "text/plain": [
       "(1536, 864)"
      ]
     },
     "execution_count": 4,
     "metadata": {},
     "output_type": "execute_result"
    }
   ],
   "source": [
    "import tkinter as tk\n",
    "\n",
    "root = tk.Tk()\n",
    "\n",
    "screen_width = root.winfo_screenwidth()\n",
    "screen_height = root.winfo_screenheight()\n",
    "\n",
    "screen_width, screen_height"
   ]
  }
 ],
 "metadata": {
  "kernelspec": {
   "display_name": "base",
   "language": "python",
   "name": "python3"
  },
  "language_info": {
   "codemirror_mode": {
    "name": "ipython",
    "version": 3
   },
   "file_extension": ".py",
   "mimetype": "text/x-python",
   "name": "python",
   "nbconvert_exporter": "python",
   "pygments_lexer": "ipython3",
   "version": "3.11.5"
  }
 },
 "nbformat": 4,
 "nbformat_minor": 5
}
