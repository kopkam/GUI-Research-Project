{
 "cells": [
  {
   "cell_type": "code",
   "execution_count": 317,
   "id": "d26b6c81",
   "metadata": {},
   "outputs": [],
   "source": [
    "# imports\n",
    "import tkinter as tk\n",
    "from PIL import ImageGrab\n",
    "from random import randint, random\n",
    "from time import sleep\n",
    "from numpy.random import choice\n",
    "import numpy as np"
   ]
  },
  {
   "cell_type": "code",
   "execution_count": 318,
   "id": "02c6e715",
   "metadata": {},
   "outputs": [],
   "source": [
    "# ----------------------------------------\n",
    "# constants\n",
    "MIN_WIDTH = 50\n",
    "MAX_WIDTH = 700\n",
    "\n",
    "MIN_HEIGHT = 50\n",
    "MAX_HEIGHT = 300\n",
    "\n",
    "MERGE_RATE_EDGE = 0.35\n",
    "MERGE_RATE = 0.3\n",
    "\n",
    "# WIDGET_LIST = [\"empty\", \"button\", \"label\", \"entry\"]\n",
    "# WIDGET_PROB = [0.35,0.15,0.35,0.15]\n",
    "\n",
    "WIDGET_LIST = [\"empty\", \"label\", \"button\"]\n",
    "WIDGET_PROB = [0.0, 0.5, 0.5]"
   ]
  },
  {
   "cell_type": "code",
   "execution_count": 319,
   "id": "1b786cca",
   "metadata": {},
   "outputs": [
    {
     "name": "stdout",
     "output_type": "stream",
     "text": [
      "[0, 364, 732, 1253, 1408, 1536]\n",
      "[0, 182, 330, 484, 688, 864]\n"
     ]
    }
   ],
   "source": [
    "# ----------------------------------------\n",
    "# the widget grid\n",
    "# ----------------------------------------\n",
    "\n",
    "import tkinter as tk\n",
    "\n",
    "root = tk.Tk()\n",
    "screen_width = root.winfo_screenwidth()\n",
    "screen_height = root.winfo_screenheight()\n",
    "root.destroy()\n",
    "root.mainloop()\n",
    "\n",
    "# generating rows and columns\n",
    "\n",
    "# columns\n",
    "row_coords = [0]\n",
    "column_coords = [0]\n",
    "\n",
    "while 1:\n",
    "    new_x = randint(MIN_WIDTH, MAX_WIDTH)\n",
    "\n",
    "    if (row_coords[-1] + new_x) > screen_width:\n",
    "        row_coords.append( screen_width)\n",
    "        break\n",
    "    else:\n",
    "        row_coords.append( row_coords[-1] + new_x)\n",
    "\n",
    "while 1:\n",
    "    new_y = randint(MIN_HEIGHT, MAX_HEIGHT)\n",
    "\n",
    "    if (column_coords[-1] + new_y) > screen_height:\n",
    "        column_coords.append( screen_height)\n",
    "        break\n",
    "    else:\n",
    "        column_coords.append( column_coords[-1] + new_y)\n",
    "\n",
    "print(row_coords)\n",
    "print(column_coords)"
   ]
  },
  {
   "cell_type": "code",
   "execution_count": 320,
   "id": "13d834f8",
   "metadata": {},
   "outputs": [],
   "source": [
    "class cell:\n",
    "\n",
    "    def __init__(self, lx, rx, uy, dy, ):\n",
    "\n",
    "        self.lx = lx\n",
    "        self.rx = rx\n",
    "        self.uy = uy\n",
    "        self.dy = dy\n",
    "\n",
    "        self.edge = (lx == 0) or (uy == 0) or\\\n",
    "                    (rx == screen_width) or (dy == screen_height)\n",
    "        \n",
    "        self.active = True\n",
    "        self.merged = False\n",
    "        self.widget = \"\"\n",
    "        self.neighbours = []"
   ]
  },
  {
   "cell_type": "code",
   "execution_count": 321,
   "id": "aac33249",
   "metadata": {},
   "outputs": [],
   "source": [
    "# creating cells within a grid\n",
    "\n",
    "grid = []\n",
    "cell_list = []\n",
    "\n",
    "for i,r in enumerate(row_coords[:-1]):\n",
    "    grid.append([])\n",
    "    for j,c in enumerate(column_coords[:-1]):\n",
    "\n",
    "        new_cell = cell(r, row_coords[i+1],\n",
    "                        c,column_coords[j+1])\n",
    "        \n",
    "        grid[-1].append(new_cell)\n",
    "        cell_list.append(new_cell)"
   ]
  },
  {
   "cell_type": "code",
   "execution_count": 322,
   "id": "42b3c797",
   "metadata": {},
   "outputs": [],
   "source": [
    "# finding neighbours and merging\n",
    "\n",
    "max_row = len(grid) - 1\n",
    "max_col = len(grid[0]) - 1\n",
    "\n",
    "\n",
    "def add_neighbours(c):\n",
    "    if row > 0:\n",
    "        c.neighbours.append( grid[row-1][col])\n",
    "    if row < max_row:\n",
    "        c.neighbours.append( grid[row+1][col])\n",
    "    if col > 0:\n",
    "        c.neighbours.append( grid[row][col-1])\n",
    "    if col < max_col:\n",
    "        c.neighbours.append( grid[row][col+1])\n",
    "    return\n",
    "\n",
    "def merge_cells(c):\n",
    "    for n in c.neighbours:\n",
    "        if (not c.merged) and (not n.merged):\n",
    "            merge_chance = random()\n",
    "\n",
    "            if merge_chance < MERGE_RATE:\n",
    "                n.active = False\n",
    "                n.merged = True\n",
    "                c.merged = True\n",
    "                c.lx = min( c.lx, n.lx)\n",
    "                c.lx = min( c.uy, n.uy)\n",
    "                c.lx = max( c.rx, n.rx)\n",
    "                c.lx = max( c.dy, n.dy)\n",
    "    return\n",
    "\n",
    "def assign_widget(c):\n",
    "    widget = choice( WIDGET_LIST, 1, p=WIDGET_PROB)\n",
    "    c.widget = widget[0]\n",
    "    return\n",
    "\n",
    "for row,_ in enumerate(grid):\n",
    "    for col,_ in enumerate(grid[row]):\n",
    "        c = grid[row][col]\n",
    "\n",
    "        if c.active:\n",
    "            add_neighbours(c)\n",
    "            merge_cells(c)\n",
    "            assign_widget(c)"
   ]
  },
  {
   "cell_type": "code",
   "execution_count": 323,
   "id": "722a5a6a",
   "metadata": {},
   "outputs": [],
   "source": [
    "cell_list = []\n",
    "\n",
    "for row,_ in enumerate(grid):\n",
    "    for col,_ in enumerate(grid[row]):\n",
    "        c = grid[row][col]\n",
    "\n",
    "        if c.active:\n",
    "            cell_list.append(c)"
   ]
  },
  {
   "cell_type": "code",
   "execution_count": 324,
   "id": "82ac9258",
   "metadata": {},
   "outputs": [
    {
     "data": {
      "text/plain": [
       "['button',\n",
       " 'label',\n",
       " 'button',\n",
       " 'button',\n",
       " 'label',\n",
       " 'label',\n",
       " 'label',\n",
       " 'button',\n",
       " 'button',\n",
       " 'button',\n",
       " 'button',\n",
       " 'label',\n",
       " 'button',\n",
       " 'label',\n",
       " 'button']"
      ]
     },
     "execution_count": 324,
     "metadata": {},
     "output_type": "execute_result"
    }
   ],
   "source": [
    "[c.widget for c in cell_list]"
   ]
  },
  {
   "cell_type": "code",
   "execution_count": 325,
   "id": "6b8efcbc",
   "metadata": {},
   "outputs": [],
   "source": [
    "sleep(5)"
   ]
  },
  {
   "cell_type": "code",
   "execution_count": 326,
   "id": "9dcf646f",
   "metadata": {},
   "outputs": [],
   "source": [
    "class MainApplication(tk.Frame):\n",
    "    def __init__(self, parent, *args, **kwargs):\n",
    "        tk.Frame.__init__(self, parent, *args, **kwargs)\n",
    "        self.parent = parent\n",
    "\n",
    "        for c in cell_list:\n",
    "            if c.widget == \"button\":\n",
    "                tk.Button( self, text=\"button\", width=c.rx-c.lx).place(x=c.lx,y=c.uy, height=c.dy-c.uy)\n",
    "            if c.widget == \"label\":\n",
    "                tk.Label( self, text=\"label\", background=\"#666666\").place(x=c.lx, y=c.uy, width=c.rx-c.lx, height=c.dy-c.uy)\n",
    "\n",
    "def take_screenshot_and_quit(root):\n",
    "    root.update()\n",
    "    screenshot = ImageGrab.grab()\n",
    "    screenshot.save(\"screenshots/screenshot.png\")\n",
    "    screenshot.close()\n",
    "    root.destroy()\n",
    "\n",
    "if __name__ == \"__main__\":\n",
    "    root = tk.Tk()\n",
    "    root.geometry(f\"{screen_width}x{screen_height}\")\n",
    "    root.attributes(\"-fullscreen\", True)\n",
    "    root.attributes(\"-topmost\", True)\n",
    "    MainApplication(root).pack(side=\"top\", fill=\"both\", expand=True)\n",
    "\n",
    "    root.after(500, lambda: take_screenshot_and_quit(root))\n",
    "\n",
    "    root.mainloop()"
   ]
  },
  {
   "cell_type": "code",
   "execution_count": null,
   "id": "b841905f",
   "metadata": {},
   "outputs": [],
   "source": []
  }
 ],
 "metadata": {
  "kernelspec": {
   "display_name": "base",
   "language": "python",
   "name": "python3"
  },
  "language_info": {
   "codemirror_mode": {
    "name": "ipython",
    "version": 3
   },
   "file_extension": ".py",
   "mimetype": "text/x-python",
   "name": "python",
   "nbconvert_exporter": "python",
   "pygments_lexer": "ipython3",
   "version": "3.11.5"
  }
 },
 "nbformat": 4,
 "nbformat_minor": 5
}
